{
 "cells": [
  {
   "cell_type": "markdown",
   "metadata": {},
   "source": [
    "# digits example\n",
    "\n"
   ]
  },
  {
   "cell_type": "code",
   "execution_count": null,
   "metadata": {
    "collapsed": false
   },
   "outputs": [],
   "source": [
    "# import data\n",
    "import numpy as np\n",
    "from sklearn import datasets\n",
    "data, labels = datasets.load_digits().data, datasets.load_digits().target"
   ]
  },
  {
   "cell_type": "code",
   "execution_count": null,
   "metadata": {
    "collapsed": false
   },
   "outputs": [],
   "source": [
    "from seaborn import plt\n",
    "\n",
    "u_labels = np.unique(labels)\n",
    "f, axs = plt.subplots(2,5, figsize=(12,6))\n",
    "flat_axs = axs.flatten()\n",
    "for u_label in u_labels:\n",
    "    flat_axs[u_label].imshow(\n",
    "        data[np.where(labels == u_label)[0][0]].reshape((8,8)))\n",
    "    flat_axs[u_label].set_title(\"number {}\".format(u_label))\n",
    "    flat_axs[u_label].set_axis_off()\n",
    "\n",
    "f"
   ]
  },
  {
   "cell_type": "code",
   "execution_count": null,
   "metadata": {
    "collapsed": false
   },
   "outputs": [],
   "source": [
    "from sklearn.manifold import TSNE\n",
    "tsne = TSNE().fit_transform(data)"
   ]
  },
  {
   "cell_type": "code",
   "execution_count": null,
   "metadata": {
    "collapsed": false
   },
   "outputs": [],
   "source": [
    "fig, ax = plt.subplots()\n",
    "ax.scatter(tsne[:,0],tsne[:,1],c=labels)\n",
    "ax.set_title(\"TSNE\")\n",
    "fig"
   ]
  },
  {
   "cell_type": "code",
   "execution_count": null,
   "metadata": {
    "collapsed": false
   },
   "outputs": [],
   "source": [
    "from cartographer.mapper import Mapper\n",
    "from cartographer.coverers import HyperRectangleCoverer\n",
    "from sklearn.preprocessing import FunctionTransformer\n",
    "from cartographer.visualization import html_graph\n",
    "from IPython.core.display import HTML\n",
    "from sklearn.cluster import DBSCAN\n",
    "\n",
    "m = Mapper(coverer=HyperRectangleCoverer(intervals=20, overlap=0.6),\n",
    "           filterer=FunctionTransformer(), # does nothing\n",
    "           clusterer=DBSCAN(min_samples=7,eps=0.4))\n",
    "m.fit(tsne)\n",
    "\n",
    "HTML(html_graph(m, {\"labels\" : labels},\n",
    "                { \"tsne_x\" : tsne[:,0],\n",
    "                  \"tsne_y\" : tsne[:,1]}))"
   ]
  }
 ],
 "metadata": {
  "kernelspec": {
   "display_name": "Python 3",
   "language": "python",
   "name": "python3"
  },
  "language_info": {
   "codemirror_mode": {
    "name": "ipython",
    "version": 3
   },
   "file_extension": ".py",
   "mimetype": "text/x-python",
   "name": "python",
   "nbconvert_exporter": "python",
   "pygments_lexer": "ipython3",
   "version": "3.5.2"
  }
 },
 "nbformat": 4,
 "nbformat_minor": 1
}
